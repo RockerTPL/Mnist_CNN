{
  "cells": [
    {
      "cell_type": "code",
      "source": [
        "import numpy as np\n",
        "import os\n",
        "import gzip\n",
        "import platform\n",
        "import pickle\n",
        "import struct\n",
        "import matplotlib.pyplot as plt"
      ],
      "outputs": [],
      "execution_count": 53,
      "metadata": {
        "execution": {
          "iopub.execute_input": "2020-06-08T06:54:16.691Z",
          "iopub.status.busy": "2020-06-08T06:54:16.668Z",
          "iopub.status.idle": "2020-06-08T06:54:16.753Z",
          "shell.execute_reply": "2020-06-08T06:54:16.766Z"
        },
        "jupyter": {
          "outputs_hidden": false,
          "source_hidden": false
        },
        "nteract": {
          "transient": {
            "deleting": false
          }
        },
        "outputExpanded": false
      }
    },
    {
      "cell_type": "markdown",
      "source": [
        "</br>\n",
        "\n",
        "### Fully-connected layer"
      ],
      "metadata": {
        "nteract": {
          "transient": {
            "deleting": false
          }
        }
      }
    },
    {
      "cell_type": "code",
      "source": [
        "def fc_fp(z, W, b):\n",
        "    \"\"\" forward propagation of a fully-connected layer\n",
        "    :param z: output of the previous layer | shape(n,l1)\n",
        "    :param W: weight of this layer | shape(l1,l2)\n",
        "    :param b: bias of this layer | shape(l2,)\n",
        "    :return z_fc: output of this layer | shape(n,l2)\n",
        "    \"\"\"\n",
        "    z_fc = np.dot(z, W) + b\n",
        "    return z_fc\n",
        "\n",
        "# # test\n",
        "# z = [[1,2,3],[1,2,3],[1,2,3]]\n",
        "# W = [[1,2], [3,4], [5,6]]\n",
        "# b = [10,20]\n",
        "# print(fc_fp(z, W, b))"
      ],
      "outputs": [],
      "execution_count": 26,
      "metadata": {
        "execution": {
          "iopub.execute_input": "2020-06-08T06:54:17.804Z",
          "iopub.status.busy": "2020-06-08T06:54:17.792Z",
          "iopub.status.idle": "2020-06-08T06:54:17.821Z",
          "shell.execute_reply": "2020-06-08T06:54:17.831Z"
        },
        "jupyter": {
          "outputs_hidden": false,
          "source_hidden": false
        },
        "nteract": {
          "transient": {
            "deleting": false
          }
        },
        "outputExpanded": false
      }
    },
    {
      "cell_type": "code",
      "source": [
        "def fc_bp(dz1, W, z):\n",
        "    \"\"\" backward propagation of a fully-connected layer\n",
        "    :param dz1: gradient of z in next layer | shape(n,l2)\n",
        "    :param W: weight of this layer | shape(l1,l2)\n",
        "    :param z: input of this layer | shape(n, l1)\n",
        "    :return: \n",
        "        dW: gradient of weight in this layer | shape(l1,l2)\n",
        "        db: gradient of bias in this layer | shape(l2,)\n",
        "        dz: gradient of values in this layer | shape(n,l2)\n",
        "    \"\"\"\n",
        "    n = z.shape[0]\n",
        "    dW = np.dot(z.T, dz1)/n\n",
        "    db = np.sum(dz1, axis=0)/n\n",
        "    dz = np.dot(dz1, W.T)\n",
        "    return dW, db, dz"
      ],
      "outputs": [],
      "execution_count": 27,
      "metadata": {
        "execution": {
          "iopub.execute_input": "2020-06-08T06:54:18.323Z",
          "iopub.status.busy": "2020-06-08T06:54:18.311Z",
          "iopub.status.idle": "2020-06-08T06:54:18.341Z",
          "shell.execute_reply": "2020-06-08T06:54:18.354Z"
        },
        "jupyter": {
          "outputs_hidden": false,
          "source_hidden": false
        },
        "nteract": {
          "transient": {
            "deleting": false
          }
        },
        "outputExpanded": false
      }
    },
    {
      "cell_type": "markdown",
      "source": [
        "### Convolutional layer"
      ],
      "metadata": {
        "nteract": {
          "transient": {
            "deleting": false
          }
        }
      }
    },
    {
      "cell_type": "code",
      "source": [
        "def conv2d_fp(z, K, b, padding=(0,0)):\n",
        "    \"\"\" forward propagation of a convolutional layer\n",
        "    :param z: output of the previous layer | shape(n,c1,h1,w1)\n",
        "    :param K: kernel of this layer | shape(c1,c2,k1,k2)\n",
        "    :param b: bias of this layer | shape(c2,)\n",
        "    :param padding: padding size | shape(p1,p2)\n",
        "    :return z_conv: output of this layer | shape(n,c2,h2,w2)\n",
        "    \"\"\"\n",
        "    # padding\n",
        "    p1 = padding[0]\n",
        "    p2 = padding[1]\n",
        "    # z_p(n,c1,h1p,w1p)\n",
        "    z_p = np.lib.pad(z, ((0,0),(0,0),(p1,p1),(p2,p2)), mode='constant', constant_values=0)\n",
        "    n, c1, h1, w1 = z_p.shape\n",
        "    c1, c2, k1, k2 = K.shape\n",
        "    # convolution\n",
        "    h2 = h1-k1+1\n",
        "    w2 = w1-k2+1\n",
        "    z_conv = np.zeros((n, c2, h2, w2))\n",
        "    for num in range(n):\n",
        "        for c in range(c2):\n",
        "            for h in range(h2):\n",
        "                for w in range(w2):\n",
        "                    # z_part(1,c1,kernel,kernel)\n",
        "                    # K_part(c1,1,kernel,kernel)\n",
        "                    # z_part * K_part(1,1,kernel,kernel)\n",
        "                    z_part = z_p[num, :, h:h+k1, w:w+k2]\n",
        "                    K_part = K[:,c]\n",
        "                    z_conv[num, c, h, w] = np.sum(z_part * K_part) + b[c]\n",
        "    return z_conv"
      ],
      "outputs": [],
      "execution_count": 28,
      "metadata": {
        "execution": {
          "iopub.execute_input": "2020-06-08T06:54:18.912Z",
          "iopub.status.busy": "2020-06-08T06:54:18.901Z",
          "iopub.status.idle": "2020-06-08T06:54:18.929Z",
          "shell.execute_reply": "2020-06-08T06:54:18.940Z"
        },
        "jupyter": {
          "outputs_hidden": false,
          "source_hidden": false
        },
        "nteract": {
          "transient": {
            "deleting": false
          }
        },
        "outputExpanded": false
      }
    },
    {
      "cell_type": "code",
      "source": [
        "def conv2d_bp(dz1, K, z, padding=(0,0)):\n",
        "    \"\"\" backward propagation of a 2D-convolutional layer\n",
        "    :param dz1: gradient of values in the next layer | shape(n,c2,h2,w2)\n",
        "    :param K: kernel of this layer | shape(c1,c2,k1,k2)\n",
        "    :param z: values of this layer | shape(n,c1,h1,w1)\n",
        "    :param padding: padding size | shape(p1,p2)\n",
        "    :return: \n",
        "        dK: gradient of kernel in this layer | shape(c1,c2,k1,k2)\n",
        "        db: gradient of bias in this layer | shape(c2,)\n",
        "        dz: gradient of values in this layer | shape(n,c1,h1,w1)\n",
        "    \"\"\"\n",
        "    c1, c2, k1, k2 = K.shape\n",
        "    n = z.shape[0]\n",
        "    p1 = padding[0]\n",
        "    p2 = padding[1]\n",
        "    \n",
        "    # z(n,c1,h1,w1) -> z_sw(c1,n,h1,w1) -> z_sw_p(c1,n,h1p,w1p)\n",
        "    # dz1(n,c2,h2,w2) = (n, c2, h1p-kernel, h2p-kernel)\n",
        "    # dK: shape(c1,c2,k1,k2)\n",
        "    z_sw = np.swapaxes(z, 0, 1)\n",
        "    dK = conv2d_fp(z_sw, dz1, np.zeros((c2,)), (p1, p2))/n\n",
        "    \n",
        "    # db: shape(c2,)\n",
        "    db = np.sum(dz1, axis=(0, 2, 3))/n\n",
        "    \n",
        "    # dz1 padding: shape(n, c2, h2+2kernel, w2+2kernel) = (n, c2, h1p+kernel, w1p+kernel)\n",
        "    # modify K: shape(c1,c2,k1,k2) -> rotation(c1,c2,k1,k2) -> Kr(c2,c1,k1,k2)\n",
        "    # padded dz: shape(n,c1,h1p,w1p)\n",
        "    dz1_p = np.lib.pad(dz1, ((0,0), (0,0), (k1-1, k1-1), (k2-1, k2-1)), mode='constant', constant_values=0)\n",
        "    Kr = np.swapaxes(np.flip(K, (2,3)), 0,1)\n",
        "    dz_p = conv2d_fp(dz1_p, Kr, np.zeros((c2,)))\n",
        "    # remove padding of dz_p(n,c1,h1p,w1p) -> dz(n,c1,h1,w1)\n",
        "    dz = dz_p\n",
        "    if(p1 > 0 and p2 > 0):\n",
        "        dz = dz[:, :, p1:-p1, p2:-p2]\n",
        "    elif p1 > 0:\n",
        "        dz = dz[:, :, p1:-p1, :]\n",
        "    elif p2 > 0:\n",
        "        dz = dz[:, :, :, p2:-p2]\n",
        "    return dK, db, dz"
      ],
      "outputs": [],
      "execution_count": 29,
      "metadata": {
        "execution": {
          "iopub.execute_input": "2020-06-08T06:54:19.023Z",
          "iopub.status.busy": "2020-06-08T06:54:19.007Z",
          "iopub.status.idle": "2020-06-08T06:54:19.040Z",
          "shell.execute_reply": "2020-06-08T06:54:19.052Z"
        },
        "jupyter": {
          "outputs_hidden": false,
          "source_hidden": false
        },
        "nteract": {
          "transient": {
            "deleting": false
          }
        },
        "outputExpanded": false
      }
    },
    {
      "cell_type": "markdown",
      "source": [
        "</br>\n",
        "\n",
        "### Pooling layer - Max pooling"
      ],
      "metadata": {
        "nteract": {
          "transient": {
            "deleting": false
          }
        }
      }
    },
    {
      "cell_type": "code",
      "source": [
        "def maxpool_fp(z, pool_size=(2,2), pool_stride=(2,2), padding=(0,0)):\n",
        "    \"\"\" forward propagation of a max-pooling layer\n",
        "    :param z: output of the previous layer | shape(n,c1,h1,w1)\n",
        "    :param pool_size: size of pooling kernel | shape(k1,k2)\n",
        "    :param pool_stride: stride of pooling kernel | shape(s1,s2)\n",
        "    :param padding: padding size | shape(p1,p2)\n",
        "    :return z_po: output of this layer | shape(n,c1,h2,w2)\n",
        "    \"\"\"\n",
        "    n, c1, h1, w1 = z.shape\n",
        "    k1 = pool_size[0]\n",
        "    k2 = pool_size[1]\n",
        "    s1 = pool_stride[0]\n",
        "    s2 = pool_stride[1]\n",
        "    p1 = padding[0]\n",
        "    p2 = padding[1]\n",
        "    h2 = (h1 + p1*2 - k1)//s1 + 1\n",
        "    w2 = (w1 + p2*2 - k2)//s2 + 1\n",
        "    # padding of z\n",
        "    z_p = np.lib.pad(z, ((0,0), (0,0), (p1, p1), (p2, p2)), 'constant', constant_values=0)\n",
        "    z_po = np.zeros((n,c1,h2,w2))\n",
        "    for num in range(n):\n",
        "        for c in range(c1):\n",
        "            for h in range(h2):\n",
        "                for w in range(w2):\n",
        "                    z_part = z_p[num, c, h*s1:h*s1+k1, w*s2:w*s2+k2]\n",
        "                    z_po[num,c,h,w] = np.max(z_part)\n",
        "    return z_po\n",
        "  \n",
        "# # test\n",
        "# z = np.random.randn(10, 2, 6, 6)\n",
        "# z_po = maxpool_fp(z, padding=(3,3))\n",
        "# print(z.shape)\n",
        "# print(z_po.shape)"
      ],
      "outputs": [],
      "execution_count": 30,
      "metadata": {
        "execution": {
          "iopub.execute_input": "2020-06-08T06:54:19.160Z",
          "iopub.status.busy": "2020-06-08T06:54:19.150Z",
          "iopub.status.idle": "2020-06-08T06:54:19.175Z",
          "shell.execute_reply": "2020-06-08T06:54:19.185Z"
        },
        "jupyter": {
          "outputs_hidden": false,
          "source_hidden": false
        },
        "nteract": {
          "transient": {
            "deleting": false
          }
        },
        "outputExpanded": false
      }
    },
    {
      "cell_type": "code",
      "source": [
        "def maxpool_bp(dz1, z, pool_size=(2,2), pool_stride=(2,2), padding=(0,0)):\n",
        "    \"\"\" backward propagation of a max-pooling layer\n",
        "    :param dz1: gradient of values in the next layer | shape(n,c1,h2,w2)\n",
        "    :param z: values of this layer | shape(n,c1,h1,w1)\n",
        "    :param pool_size: size of pooling kernel | shape(k1,k2)\n",
        "    :param pool_stride: stride of pooling kernel | shape(s1,s2)\n",
        "    :param padding: padding size | shape(p1,p2)\n",
        "    :return dz: gradient of values in this layer | shape(n,c1,h1,w1)\n",
        "    \"\"\"\n",
        "    n, c1, h1, w1 = z.shape\n",
        "    n, c2, h2, w2 = dz1.shape\n",
        "    k1 = pool_size[0]\n",
        "    k2 = pool_size[1]\n",
        "    s1 = pool_stride[0]\n",
        "    s2 = pool_stride[1]\n",
        "    p1 = padding[0]\n",
        "    p2 = padding[1]\n",
        "    # padding of z: shape(n,c1,h1p,w1p)\n",
        "    z_p = np.lib.pad(z, ((0,0), (0,0), (p1, p1), (p2, p2)), 'constant', constant_values=0)\n",
        "    # padded dz: shape(n,c1,h1p,w1p)\n",
        "    dz_p = np.zeros(z_p.shape)\n",
        "    for num in range(n):\n",
        "        for c in range(c1):\n",
        "            for h in range(h2):\n",
        "                for w in range(w2):\n",
        "                    # associated part in z_p of the element dz1[num, c, h, w]\n",
        "                    z_part = z_p[num, c, h*s1:h*s1+k1, w*s2:w*s2+k2]\n",
        "                    # index of max in z_part\n",
        "                    id_max_z_part = np.argmax(z_part)\n",
        "                    # index of this max in z_p\n",
        "                    h_max_z_p = h*s1 + id_max_z_part // k2\n",
        "                    w_max_z_p = w*s2 + id_max_z_part % k2\n",
        "                    dz_p[num, c, h_max_z_p, w_max_z_p] += dz1[num, c, h, w]\n",
        "    # remove padding of dz_p(n,c1,h1p,w1p) -> dz(n,c1,h1,w1)\n",
        "    dz = dz_p\n",
        "    if(p1 > 0 and p2 > 0):\n",
        "        dz = dz[:, :, p1:-p1, p2:-p2]\n",
        "    elif p1 > 0:\n",
        "        dz = dz[:, :, p1:-p1, :]\n",
        "    elif p2 > 0:\n",
        "        dz = dz[:, :, :, p2:-p2]\n",
        "    return dz\n",
        "  \n",
        "# # test\n",
        "# z = np.array([[[[1,5,8,6],\n",
        "#        [2,4,6,4],\n",
        "#        [3,5,7,3],\n",
        "#        [5,10,3,5]]]])\n",
        "# z_po = maxpool_fp(z, pool_size=(2,2), pool_stride=(1,1), padding=(0,0))\n",
        "# dz1 = z_po/5\n",
        "# dz = maxpool_bp(dz1, z, pool_size=(2,2), pool_stride=(1,1), padding=(0,0))\n",
        "# print(z_po)\n",
        "# print(dz1)\n",
        "# print(dz)"
      ],
      "outputs": [],
      "execution_count": 31,
      "metadata": {
        "execution": {
          "iopub.execute_input": "2020-06-08T06:54:19.252Z",
          "iopub.status.busy": "2020-06-08T06:54:19.241Z",
          "iopub.status.idle": "2020-06-08T06:54:19.270Z",
          "shell.execute_reply": "2020-06-08T06:54:19.284Z"
        },
        "jupyter": {
          "outputs_hidden": false,
          "source_hidden": false
        },
        "nteract": {
          "transient": {
            "deleting": false
          }
        },
        "outputExpanded": false
      }
    },
    {
      "cell_type": "markdown",
      "source": [
        "</br>\n",
        "\n",
        "### Flatten layer"
      ],
      "metadata": {
        "nteract": {
          "transient": {
            "deleting": false
          }
        }
      }
    },
    {
      "cell_type": "code",
      "source": [
        "def flatten_fp(z):\n",
        "    \"\"\" change the dimention of data: 2D to 1D\n",
        "    :param z: output of previous layer | shape(n,c1,h1,w1)\n",
        "    :return z_flt: output after flattening | shape(n,l1)\n",
        "    \"\"\"\n",
        "    n = z.shape[0]\n",
        "    z_flt = np.reshape(z, (n,-1))\n",
        "    return z_flt\n",
        "  \n",
        "# test\n",
        "# z = np.random.randn(2, 2, 3, 3)\n",
        "# z_flt = flatten_fp(z)\n",
        "# print(z.shape)\n",
        "# print(z_flt.shape)"
      ],
      "outputs": [],
      "execution_count": 32,
      "metadata": {
        "execution": {
          "iopub.execute_input": "2020-06-08T06:54:19.409Z",
          "iopub.status.busy": "2020-06-08T06:54:19.398Z",
          "iopub.status.idle": "2020-06-08T06:54:19.425Z",
          "shell.execute_reply": "2020-06-08T06:54:19.434Z"
        },
        "jupyter": {
          "outputs_hidden": false,
          "source_hidden": false
        },
        "nteract": {
          "transient": {
            "deleting": false
          }
        },
        "outputExpanded": false
      }
    },
    {
      "cell_type": "code",
      "source": [
        "def flatten_bp(dz1, z):\n",
        "    \"\"\" backward propagation of flatten layer\n",
        "    :param dz1: gradient of z in next layer | shape(n,l1)\n",
        "    :param z: output of previous layer | shape(n,c1,h1,w1)\n",
        "    :return dz: gradient of z in this layer | shape(n,c1,h1,w1)\n",
        "    \"\"\"\n",
        "    dz = np.reshape(dz1, z.shape)\n",
        "    return dz\n",
        "\n",
        "# # test\n",
        "# z = np.random.randn(2, 2, 3, 3)\n",
        "# dz1 = flatten_fp(z)\n",
        "# dz = flatten_bp(dz1, z)\n",
        "# print(z.shape)\n",
        "# print(dz1.shape)\n",
        "# print(dz.shape)"
      ],
      "outputs": [],
      "execution_count": 33,
      "metadata": {
        "execution": {
          "iopub.execute_input": "2020-06-08T06:54:19.494Z",
          "iopub.status.busy": "2020-06-08T06:54:19.484Z",
          "iopub.status.idle": "2020-06-08T06:54:19.510Z",
          "shell.execute_reply": "2020-06-08T06:54:19.520Z"
        },
        "jupyter": {
          "outputs_hidden": false,
          "source_hidden": false
        },
        "nteract": {
          "transient": {
            "deleting": false
          }
        },
        "outputExpanded": false
      }
    },
    {
      "cell_type": "markdown",
      "source": [
        "</br>\n",
        "\n",
        "### Activate function"
      ],
      "metadata": {
        "nteract": {
          "transient": {
            "deleting": false
          }
        }
      }
    },
    {
      "cell_type": "code",
      "source": [
        "def relu_fp(z):\n",
        "    \"\"\" forward propagation of activate function - Relu\n",
        "    :param z: output of previous layer\n",
        "    :return: output after activate layer Relu\n",
        "    \"\"\"\n",
        "    return np.maximum(0, z)\n",
        "\n",
        "def relu_bp(dz1, z):\n",
        "    \"\"\" backward propagation of activate function - Relu\n",
        "    :param dz1: gradient of z in next layer\n",
        "    :param z: output of previous layer\n",
        "    :return dz: gradient of z in this layer\n",
        "    \"\"\"\n",
        "    dz = np.where(np.greater(z, 0), dz1, 0)\n",
        "    return dz"
      ],
      "outputs": [],
      "execution_count": 34,
      "metadata": {
        "execution": {
          "iopub.execute_input": "2020-06-08T06:54:20.587Z",
          "iopub.status.busy": "2020-06-08T06:54:20.576Z",
          "iopub.status.idle": "2020-06-08T06:54:20.602Z",
          "shell.execute_reply": "2020-06-08T06:54:20.613Z"
        },
        "jupyter": {
          "outputs_hidden": false,
          "source_hidden": false
        },
        "nteract": {
          "transient": {
            "deleting": false
          }
        },
        "outputExpanded": false
      }
    },
    {
      "cell_type": "code",
      "source": [
        "def tanh_fp(z):\n",
        "    \"\"\" forward propagation of activate function - tanh\n",
        "    :param z: output of previous layer\n",
        "    :return: output after activate layer Relu\n",
        "    \"\"\"\n",
        "    return np.tanh(z)\n",
        "\n",
        "def tanh_bp(dz1):\n",
        "    \"\"\" backward propagation of activate function - tanh\n",
        "    :param dz1: gradient of z in next layer\n",
        "    :return dz: gradient of z in this layer\n",
        "    \"\"\"\n",
        "    dz = 1 - np.square(np.tanh(dz1))\n",
        "    return dz"
      ],
      "outputs": [],
      "execution_count": 35,
      "metadata": {
        "execution": {
          "iopub.execute_input": "2020-06-08T06:54:21.462Z",
          "iopub.status.busy": "2020-06-08T06:54:21.450Z",
          "iopub.status.idle": "2020-06-08T06:54:21.483Z",
          "shell.execute_reply": "2020-06-08T06:54:21.494Z"
        },
        "jupyter": {
          "outputs_hidden": false,
          "source_hidden": false
        },
        "nteract": {
          "transient": {
            "deleting": false
          }
        },
        "outputExpanded": false
      }
    },
    {
      "cell_type": "markdown",
      "source": [
        "</br>\n",
        "\n",
        "### Loss function - mean squared loss, softmax & cross entropy"
      ],
      "metadata": {
        "nteract": {
          "transient": {
            "deleting": false
          }
        }
      }
    },
    {
      "cell_type": "code",
      "source": [
        "def mean_squared(y, yr):\n",
        "    \"\"\" loss function - mean squared loss\n",
        "    :param y: output of the last layer | shape(n,ln)\n",
        "    :param yr: real value of the samples | shape(n,ln)\n",
        "    :return:\n",
        "        loss: total loss | shape(1,)\n",
        "        dy: gradient of values in this layer | shape(n,ln)\n",
        "    \"\"\"\n",
        "    sq = np.square(y - yr)/2\n",
        "    loss = np.mean(np.sum(sq, axis=-1))\n",
        "    dy = y - yr\n",
        "    return loss, dy\n",
        "  \n",
        "# #test \n",
        "# y = np.array([[0.1,0.1,0.8],[0.1,0.1,0.8],[0.2,0.2,0.6],[0.01,0.01,0.98]])\n",
        "# yr = np.array([[0,0,1],[0,0,1],[0,0,1],[0,0,1]])\n",
        "# loss, dy = mean_squared(y, yr)\n",
        "# print(loss)\n",
        "# print(dy)"
      ],
      "outputs": [],
      "execution_count": 36,
      "metadata": {
        "execution": {
          "iopub.execute_input": "2020-06-08T06:54:22.142Z",
          "iopub.status.busy": "2020-06-08T06:54:22.131Z",
          "iopub.status.idle": "2020-06-08T06:54:22.160Z",
          "shell.execute_reply": "2020-06-08T06:54:22.171Z"
        },
        "jupyter": {
          "outputs_hidden": false,
          "source_hidden": false
        },
        "nteract": {
          "transient": {
            "deleting": false
          }
        },
        "outputExpanded": false
      }
    },
    {
      "cell_type": "code",
      "source": [
        "def softmax(y):\n",
        "    \"\"\" softmax function\n",
        "    :param y: output of the last layer | shape(n,ln)\n",
        "    :return: y after softmax | shape(n,ln)\n",
        "    \"\"\"\n",
        "    return (np.exp(y).T/np.sum(np.exp(y), axis=-1)).T\n",
        "  \n",
        "# # test\n",
        "# y = np.array([[1,2,3],[1,2,3],[1,2,5]])\n",
        "# res = softmax(y)\n",
        "# print(res)"
      ],
      "outputs": [],
      "execution_count": 37,
      "metadata": {
        "execution": {
          "iopub.execute_input": "2020-06-08T06:54:22.493Z",
          "iopub.status.busy": "2020-06-08T06:54:22.482Z",
          "iopub.status.idle": "2020-06-08T06:54:22.511Z",
          "shell.execute_reply": "2020-06-08T06:54:22.523Z"
        },
        "jupyter": {
          "outputs_hidden": false,
          "source_hidden": false
        },
        "nteract": {
          "transient": {
            "deleting": false
          }
        },
        "outputExpanded": false
      }
    },
    {
      "cell_type": "code",
      "source": [
        "def cross_entropy(y, yr):\n",
        "    \"\"\" loss function - cross entropy\n",
        "    :param y: output of the last layer | shape(n,ln)\n",
        "    :param yr: real value of the samples | shape(n,ln)\n",
        "    :return: \n",
        "        loss: total loss | shape(1,)\n",
        "        dy: gradient of values in this layer | shape(n,ln)\n",
        "    \"\"\"\n",
        "    sftmx = softmax(y)\n",
        "    lg = -np.log(sftmx)\n",
        "    yr_log = yr * lg\n",
        "    loss = np.mean(np.sum(yr_log, axis=-1))\n",
        "    dy = sftmx - yr\n",
        "    return loss, dy\n",
        "    \n",
        "# #test \n",
        "# y = np.array([[0.1,0.1,0.8],[0.1,0.1,0.8],[0.2,0.2,0.6],[0.01,0.01,0.98]])\n",
        "# yr = np.array([[0,0,1],[0,0,1],[0,0,1],[0,0,1]])\n",
        "# loss, dy = corss_entropy(y, yr)\n",
        "# print(loss)\n",
        "# print(dy)"
      ],
      "outputs": [],
      "execution_count": 38,
      "metadata": {
        "execution": {
          "iopub.execute_input": "2020-06-08T06:54:22.779Z",
          "iopub.status.busy": "2020-06-08T06:54:22.768Z",
          "iopub.status.idle": "2020-06-08T06:54:22.797Z",
          "shell.execute_reply": "2020-06-08T06:54:22.809Z"
        },
        "jupyter": {
          "outputs_hidden": false,
          "source_hidden": false
        },
        "nteract": {
          "transient": {
            "deleting": false
          }
        },
        "outputExpanded": false
      }
    },
    {
      "cell_type": "markdown",
      "source": [
        "</br>\n",
        "\n",
        "### Optimizer"
      ],
      "metadata": {
        "nteract": {
          "transient": {
            "deleting": false
          }
        }
      }
    },
    {
      "cell_type": "code",
      "source": [
        "def sgd(weights, gradients, lr=0.01):\n",
        "    \"\"\" use SGD to optimize parameters in the network\n",
        "    :param weights: current parameters | dictionnary\n",
        "    :param gradients: current gradients | dictionnary\n",
        "    :param lr: learning rate\n",
        "    \"\"\"\n",
        "    for itm in weights.keys():\n",
        "        weights[itm] -= lr * gradients[itm]"
      ],
      "outputs": [],
      "execution_count": 39,
      "metadata": {
        "execution": {
          "iopub.execute_input": "2020-06-08T06:54:23.306Z",
          "iopub.status.busy": "2020-06-08T06:54:23.295Z",
          "iopub.status.idle": "2020-06-08T06:54:23.325Z",
          "shell.execute_reply": "2020-06-08T06:54:23.335Z"
        },
        "jupyter": {
          "outputs_hidden": false,
          "source_hidden": false
        },
        "nteract": {
          "transient": {
            "deleting": false
          }
        },
        "outputExpanded": false
      }
    },
    {
      "cell_type": "code",
      "source": [
        "def sgd_md(weights, gradients, v_weights, lr=0.01, it=0, momentum=0.9, decay=1e-5):\n",
        "    \"\"\" use SGD with momentum and decay to optimize parameters in the network\n",
        "    :param weights: current parameters | dictionnary\n",
        "    :param gradients: current gradients | dictionnary\n",
        "    :param v_weights: amount of update of weights | dictionnary\n",
        "    :param lr: learning rate\n",
        "    :param momentum: momentum of parameters\n",
        "    :param decay: decay of learning rate\n",
        "    :return:\n",
        "        lr: updated learning rate\n",
        "        it: number of iteration\n",
        "    \"\"\"\n",
        "    # update leaning rate\n",
        "    lr = lr / (1 + decay*it)\n",
        "    # upgrade weights\n",
        "    for itm in weights.keys():\n",
        "        v_weights[itm] = momentum * v_weights[itm] + lr*gradients[itm]\n",
        "        weights[itm] -= v_weights[itm]\n",
        "    it += 1\n",
        "    return lr, it"
      ],
      "outputs": [],
      "execution_count": 40,
      "metadata": {
        "jupyter": {
          "outputs_hidden": false,
          "source_hidden": false
        },
        "nteract": {
          "transient": {
            "deleting": false
          }
        },
        "outputExpanded": false
      }
    },
    {
      "cell_type": "markdown",
      "source": [
        "### Load data"
      ],
      "metadata": {
        "collapsed": true,
        "jupyter": {
          "outputs_hidden": false,
          "source_hidden": false
        },
        "nteract": {
          "transient": {
            "deleting": false
          }
        },
        "outputExpanded": false
      }
    },
    {
      "cell_type": "code",
      "source": [
        "# the file of train images\n",
        "train_images_idx3_ubyte_file = 'train-images.idx3-ubyte'\n",
        "# the file of train labels\n",
        "train_labels_idx1_ubyte_file = 'train-labels.idx1-ubyte'\n",
        "\n",
        "# the file of test images\n",
        "test_images_idx3_ubyte_file = 't10k-images.idx3-ubyte'\n",
        "# the file of test labels\n",
        "test_labels_idx1_ubyte_file = 't10k-labels.idx1-ubyte'\n",
        "\n",
        "\n",
        "def decode_idx3_ubyte(idx3_ubyte_file):\n",
        "    \"\"\"\n",
        "    decode ''.idx3-ubyte' file\n",
        "    :param idx3_ubyte_file: the path of '.idx3-ubyte' file\n",
        "    :return: images | shape(n, rows, cols)\n",
        "    \"\"\"\n",
        "    bin_data = open(idx3_ubyte_file, 'rb').read()\n",
        "\n",
        "    # decode file header information\n",
        "    offset = 0\n",
        "    fmt_header = '>iiii'\n",
        "    magic_number, num_images, num_rows, num_cols = struct.unpack_from(fmt_header, bin_data, offset)\n",
        "    print ('magic number:%d, images number: %d, image size: %d*%d' % (magic_number, num_images, num_rows, num_cols))\n",
        "\n",
        "    # decode data set\n",
        "    image_size = num_rows * num_cols\n",
        "    offset += struct.calcsize(fmt_header)\n",
        "    fmt_image = '>' + str(image_size) + 'B'\n",
        "    images = np.empty((num_images, num_rows, num_cols))\n",
        "    for i in range(num_images):\n",
        "        if (i + 1) % 10000 == 0:\n",
        "            print ('have decoded %d' % (i + 1) + 'images')\n",
        "        images[i] = np.array(struct.unpack_from(fmt_image, bin_data, offset)).reshape((num_rows, num_cols))\n",
        "        offset += struct.calcsize(fmt_image)\n",
        "    return images\n",
        "\n",
        "\n",
        "def decode_idx1_ubyte(idx1_ubyte_file):\n",
        "    \"\"\"\n",
        "    decode ''.idx1-ubyte' file\n",
        "    :param idx1_ubyte_file: the path of '.idx1-ubyte' file\n",
        "    :return: labels | shape(n, 1)\n",
        "    \"\"\"\n",
        "    bin_data = open(idx1_ubyte_file, 'rb').read()\n",
        "\n",
        "    # decode file header information\n",
        "    offset = 0\n",
        "    fmt_header = '>ii'\n",
        "    magic_number, num_images = struct.unpack_from(fmt_header, bin_data, offset)\n",
        "    print ('magic number:%d, images number: %d' % (magic_number, num_images))\n",
        "\n",
        "    # decode data set\n",
        "    offset += struct.calcsize(fmt_header)\n",
        "    fmt_image = '>B'\n",
        "    labels = np.empty(num_images)\n",
        "    for i in range(num_images):\n",
        "        if (i + 1) % 10000 == 0:\n",
        "            print ('have decoded %d' % (i + 1) + 'images')\n",
        "        labels[i] = struct.unpack_from(fmt_image, bin_data, offset)[0]\n",
        "        offset += struct.calcsize(fmt_image)\n",
        "    return labels\n",
        "\n",
        "\n",
        "def load_train_images(idx_ubyte_file=train_images_idx3_ubyte_file):\n",
        "    \"\"\"\n",
        "    TRAINING SET IMAGE FILE (train-images-idx3-ubyte):\n",
        "    [offset] [type]          [value]          [description]\n",
        "    0000     32 bit integer  0x00000803(2051) magic number\n",
        "    0004     32 bit integer  60000            number of images\n",
        "    0008     32 bit integer  28               number of rows\n",
        "    0012     32 bit integer  28               number of columns\n",
        "    0016     unsigned byte   ??               pixel\n",
        "    0017     unsigned byte   ??               pixel\n",
        "    ........\n",
        "    xxxx     unsigned byte   ??               pixel\n",
        "    Pixels are organized row-wise. Pixel values are 0 to 255. 0 means background (white), 255 means foreground (black).\n",
        "\n",
        "    :param idx_ubyte_file: the path of train images\n",
        "    :return: images | shape(n,28,28)\n",
        "    \"\"\"\n",
        "    return decode_idx3_ubyte(idx_ubyte_file)\n",
        "\n",
        "\n",
        "def load_train_labels(idx_ubyte_file=train_labels_idx1_ubyte_file):\n",
        "    \"\"\"\n",
        "    TRAINING SET LABEL FILE (train-labels-idx1-ubyte):\n",
        "    [offset] [type]          [value]          [description]\n",
        "    0000     32 bit integer  0x00000801(2049) magic number (MSB first)\n",
        "    0004     32 bit integer  60000            number of items\n",
        "    0008     unsigned byte   ??               label\n",
        "    0009     unsigned byte   ??               label\n",
        "    ........\n",
        "    xxxx     unsigned byte   ??               label\n",
        "    The labels values are 0 to 9.\n",
        "\n",
        "    :param idx_ubyte_file: the path of train labels\n",
        "    :return: labels | shape(n,1)\n",
        "    \"\"\"\n",
        "    return decode_idx1_ubyte(idx_ubyte_file)\n",
        "\n",
        "\n",
        "def load_test_images(idx_ubyte_file=test_images_idx3_ubyte_file):\n",
        "    \"\"\"\n",
        "    TEST SET IMAGE FILE (t10k-images-idx3-ubyte):\n",
        "    [offset] [type]          [value]          [description]\n",
        "    0000     32 bit integer  0x00000803(2051) magic number\n",
        "    0004     32 bit integer  10000            number of images\n",
        "    0008     32 bit integer  28               number of rows\n",
        "    0012     32 bit integer  28               number of columns\n",
        "    0016     unsigned byte   ??               pixel\n",
        "    0017     unsigned byte   ??               pixel\n",
        "    ........\n",
        "    xxxx     unsigned byte   ??               pixel\n",
        "    Pixels are organized row-wise. Pixel values are 0 to 255. 0 means background (white), 255 means foreground (black).\n",
        "\n",
        "    :param idx_ubyte_file: the path of test images\n",
        "    :return: images | shape(n,28,28)\n",
        "    \"\"\"\n",
        "    return decode_idx3_ubyte(idx_ubyte_file)\n",
        "\n",
        "\n",
        "def load_test_labels(idx_ubyte_file=test_labels_idx1_ubyte_file):\n",
        "    \"\"\"\n",
        "    TEST SET LABEL FILE (t10k-labels-idx1-ubyte):\n",
        "    [offset] [type]          [value]          [description]\n",
        "    0000     32 bit integer  0x00000801(2049) magic number (MSB first)\n",
        "    0004     32 bit integer  10000            number of items\n",
        "    0008     unsigned byte   ??               label\n",
        "    0009     unsigned byte   ??               label\n",
        "    ........\n",
        "    xxxx     unsigned byte   ??               label\n",
        "    The labels values are 0 to 9.\n",
        "\n",
        "    :param idx_ubyte_file: the path of test labels\n",
        "    :return: labels | shape(n,1)\n",
        "    \"\"\"\n",
        "    return decode_idx1_ubyte(idx_ubyte_file)"
      ],
      "outputs": [],
      "execution_count": 41,
      "metadata": {
        "execution": {
          "iopub.execute_input": "2020-06-08T06:54:24.136Z",
          "iopub.status.busy": "2020-06-08T06:54:24.126Z",
          "iopub.status.idle": "2020-06-08T06:54:24.155Z",
          "shell.execute_reply": "2020-06-08T06:54:24.165Z"
        }
      }
    },
    {
      "cell_type": "code",
      "source": [
        "train_images = load_train_images()\n",
        "train_labels = load_train_labels()\n",
        "test_images = load_test_images()\n",
        "test_labels = load_test_labels()"
      ],
      "outputs": [
        {
          "output_type": "stream",
          "name": "stdout",
          "text": [
            "magic number:2051, images number: 60000, image size: 28*28\n",
            "have decoded 10000images\n",
            "have decoded 20000images\n",
            "have decoded 30000images\n",
            "have decoded 40000images\n",
            "have decoded 50000images\n",
            "have decoded 60000images\n",
            "magic number:2049, images number: 60000\n",
            "have decoded 10000images\n",
            "have decoded 20000images\n",
            "have decoded 30000images\n",
            "have decoded 40000images\n",
            "have decoded 50000images\n",
            "have decoded 60000images\n",
            "magic number:2051, images number: 10000, image size: 28*28\n",
            "have decoded 10000images\n",
            "magic number:2049, images number: 10000\n",
            "have decoded 10000images\n"
          ]
        }
      ],
      "execution_count": 42,
      "metadata": {
        "execution": {
          "iopub.execute_input": "2020-06-08T06:54:24.368Z",
          "iopub.status.busy": "2020-06-08T06:54:24.358Z",
          "iopub.status.idle": "2020-06-08T06:54:28.283Z",
          "shell.execute_reply": "2020-06-08T06:54:28.312Z"
        },
        "scrolled": true
      }
    },
    {
      "cell_type": "markdown",
      "source": [
        "###  Preprocess data"
      ],
      "metadata": {}
    },
    {
      "cell_type": "code",
      "source": [
        "def to_categorical(y, num_classes=None):\n",
        "    \"\"\"\n",
        "    Converts a class vector (integers) to binary class matrix (one-hot encoding).\n",
        "    :param y: class vector to be converted into a matrix (integers from 0 to num_classes). | shape(n,1)\n",
        "    :param num_classes: total number of classes.\n",
        "    :return categorical: A binary matrix representation of the input. | shape(n,num_classes)\n",
        "    \"\"\"\n",
        "    if num_classes==None:\n",
        "        num_classes = np.max(y)+1\n",
        "    # the number of samples\n",
        "    n = y.shape[0]\n",
        "    categorical = np.zeros((n,num_classes), dtype=np.float32)\n",
        "    for i in range(n):\n",
        "        categorical[i][int(y[i])] = 1   #categorical[i][int(y[i])-1] = 1\n",
        "    return categorical"
      ],
      "outputs": [],
      "execution_count": 43,
      "metadata": {
        "execution": {
          "iopub.execute_input": "2020-06-08T06:54:30.583Z",
          "iopub.status.busy": "2020-06-08T06:54:30.572Z",
          "iopub.status.idle": "2020-06-08T06:54:30.600Z",
          "shell.execute_reply": "2020-06-08T06:54:30.610Z"
        }
      }
    },
    {
      "cell_type": "code",
      "source": [
        "# shuffle the train data set\n",
        "train_num = train_images.shape[0]\n",
        "train_random = np.arange(train_num)\n",
        "np.random.shuffle(train_random)\n",
        "train_images = train_images[train_random, :]\n",
        "train_labels = train_labels[train_random]\n",
        "train_labels = to_categorical(train_labels, num_classes=10)\n",
        "\n",
        "\n",
        "# shuffle the test data set\n",
        "test_num = test_images.shape[0]\n",
        "test_random = np.arange(test_num)\n",
        "np.random.shuffle(test_random)\n",
        "test_images = test_images[test_random,:]\n",
        "test_labels = test_labels[test_random]\n",
        "test_labels = to_categorical(test_labels, num_classes=10)\n",
        "\n",
        "\n",
        "# split the validation data set and count the number of each data set\n",
        "valid_num = int(0.1*train_num)\n",
        "train_num = train_num-valid_num\n",
        "valid_images = train_images[:valid_num,:]\n",
        "valid_labels = train_labels[:valid_num,:]\n",
        "train_images = train_images[valid_num:,:]\n",
        "train_labels = train_labels[valid_num:,:]\n",
        "print(\"shape of train images:\", train_images.shape, \"\\tshape of train labels:\", train_labels.shape)\n",
        "print(\"shape of validation images:\", valid_images.shape, \"\\tshape of validation labels:\", valid_labels.shape)\n",
        "print(\"shape of test imagees:\", test_images.shape, \"\\tshape of test labels:\", test_labels.shape)\n",
        "\n",
        "\n",
        "# preprocess images and reshape image data\n",
        "train_images = train_images/255\n",
        "valid_images = valid_images/255\n",
        "test_images = test_images/255\n",
        "train_images = train_images.reshape(-1,1,28,28)\n",
        "valid_images = valid_images.reshape(-1,1,28,28)\n",
        "test_images = test_images.reshape(-1,1,28,28)"
      ],
      "outputs": [
        {
          "output_type": "stream",
          "name": "stdout",
          "text": [
            "shape of train images: (54000, 28, 28) \tshape of train labels: (54000, 10)\n",
            "shape of validation images: (6000, 28, 28) \tshape of validation labels: (6000, 10)\n",
            "shape of test imagees: (10000, 28, 28) \tshape of test labels: (10000, 10)\n"
          ]
        }
      ],
      "execution_count": 44,
      "metadata": {
        "execution": {
          "iopub.execute_input": "2020-06-08T06:54:31.069Z",
          "iopub.status.busy": "2020-06-08T06:54:31.057Z",
          "iopub.status.idle": "2020-06-08T06:54:31.323Z",
          "shell.execute_reply": "2020-06-08T06:54:31.381Z"
        }
      }
    },
    {
      "cell_type": "markdown",
      "source": [
        "### Method of evaluation"
      ],
      "metadata": {}
    },
    {
      "cell_type": "code",
      "source": [
        "def accuracy(y_pred, y_true):\n",
        "    \"\"\"\n",
        "    calculate the total accuracy of the data set\n",
        "    :param y_pred: prediction of the model | shape (n,num_classes)\n",
        "    :param y_true: true labels of the data set | shape(n,num_classes)\n",
        "    :return acc: the total accuracy | shape(1,)\n",
        "    \"\"\"\n",
        "    return np.mean(np.equal(np.argmax(y_pred,axis=1), np.argmax(y_true,axis=1)))\n",
        "\n",
        "\n",
        "def categorical_precision(y_pred, y_true):\n",
        "    \"\"\"\n",
        "    calculate the precision of each category\n",
        "    :param y_pred: prediction of the model | shape (n,num_classes)\n",
        "    :param y_true: true labels of the data set | shape(n,num_classes)\n",
        "    :return acc: the precision of each category | shape(1,cun_classes)\n",
        "    \"\"\"\n",
        "    pred = np.argmax(y_pred, axis=1)\n",
        "    pred = to_categorical(pred, num_classes=10)\n",
        "    # count the number of each category in the prediction of the model\n",
        "    pred_ca_num = np.sum(pred, axis=0)\n",
        "    true = np.transpose(y_true)\n",
        "    acc = np.dot(true, pred)\n",
        "    # count the true numer of each category in the prediction of the model\n",
        "    true_ca_num = []\n",
        "    for i in range(10):\n",
        "        true_ca_num.append(acc[i,i])\n",
        "    true_ca_num = np.array(true_ca_num)\n",
        "    return true_ca_num/pred_ca_num"
      ],
      "outputs": [],
      "execution_count": 45,
      "metadata": {
        "execution": {
          "iopub.execute_input": "2020-06-08T06:54:33.309Z",
          "iopub.status.busy": "2020-06-08T06:54:33.297Z",
          "iopub.status.idle": "2020-06-08T06:54:33.324Z",
          "shell.execute_reply": "2020-06-08T06:54:33.336Z"
        }
      }
    },
    {
      "cell_type": "markdown",
      "source": [
        "### Save model and load model"
      ],
      "metadata": {}
    },
    {
      "cell_type": "code",
      "source": [
        "def save_model(path):\n",
        "    \"\"\"\n",
        "    save weights, nuerons, and gradients in three files and save other details of the model\n",
        "    :param path: the folder used to save model\n",
        "    \"\"\"\n",
        "    global lr, epoch, valid_loss, valid_acc, valid_ca_prec\n",
        "    details = {\"lr\":lr, \"epoch\":epoch, \"valid_loss\":valid_loss, \"valid_acc\":valid_acc, \"valid_ca_prec\":valid_ca_prec}\n",
        "    np.save(os.path.join(path,'weights.npy'), weights) \n",
        "    np.save(os.path.join(path,'nuerons.npy'), nuerons) \n",
        "    np.save(os.path.join(path,'gradients.npy'), gradients) \n",
        "    np.save(os.path.join(path,'details.npy'), details)\n",
        "    print(\"saving model to\", path, end=\"\\n\\n\")\n",
        "    \n",
        "\n",
        "def load_model(path):\n",
        "    \"\"\"\n",
        "    load weights, nuerons, and gradients and other details of the saved model\n",
        "    :param path: the folder used to load model\n",
        "    :return: weights, nuerons, gradients, lr, epoch, valid_loss, valid_acc, valid_ca_prec\n",
        "    \"\"\"\n",
        "    weights = np.load(os.path.join(path,'weights.npy'), allow_pickle=True).item()\n",
        "    nuerons = np.load(os.path.join(path,'nuerons.npy'), allow_pickle=True).item()\n",
        "    gradients = np.load(os.path.join(path,'gradients.npy'), allow_pickle=True).item()\n",
        "    details = np.load(os.path.join(path,'details.npy'), allow_pickle=True).item()\n",
        "    return weights, nuerons, gradients, [details[\"lr\"], details[\"epoch\"], details[\"valid_loss\"], details[\"valid_acc\"], details[\"valid_ca_prec\"]]  "
      ],
      "outputs": [],
      "execution_count": 46,
      "metadata": {
        "execution": {
          "iopub.execute_input": "2020-06-08T06:54:34.575Z",
          "iopub.status.busy": "2020-06-08T06:54:34.565Z",
          "iopub.status.idle": "2020-06-08T06:54:34.591Z",
          "shell.execute_reply": "2020-06-08T06:54:34.601Z"
        }
      }
    },
    {
      "cell_type": "markdown",
      "source": [
        "### Construct model"
      ],
      "metadata": {
        "nteract": {
          "transient": {
            "deleting": false
          }
        }
      }
    },
    {
      "cell_type": "code",
      "source": [
        "weights = {}\n",
        "nuerons={}\n",
        "gradients={}\n",
        "\n",
        "weights_scale = 1e-1\n",
        "filters = 16\n",
        "fc_units=64\n",
        "weights[\"K1\"] = weights_scale * np.random.randn(1, filters, 3, 3).astype(np.float64)\n",
        "weights[\"b1\"] = np.zeros(filters).astype(np.float64)\n",
        "weights[\"W2\"] = weights_scale * np.random.randn(filters * 13 * 13, fc_units).astype(np.float64)\n",
        "weights[\"b2\"] = np.zeros(fc_units).astype(np.float64)\n",
        "weights[\"W3\"] = weights_scale * np.random.randn(fc_units, 10).astype(np.float64)\n",
        "weights[\"b3\"] = np.zeros(10).astype(np.float64)\n",
        "\n",
        "v_weights = {}\n",
        "for itm in weights.keys():\n",
        "    v_weights[itm] = np.zeros_like(weights[itm])\n",
        "\n",
        "\n",
        "# define total forward propagation\n",
        "def forward(X):\n",
        "    nuerons[\"conv1\"] = conv2d_fp(X.astype(np.float64),weights[\"K1\"],weights[\"b1\"])\n",
        "    nuerons[\"conv1_relu\"] = relu_fp(nuerons[\"conv1\"])\n",
        "    nuerons[\"maxp1\"] = maxpool_fp(nuerons[\"conv1_relu\"].astype(np.float64),pool_size=(2,2))\n",
        "\n",
        "    nuerons[\"flatten\"] = flatten_fp(nuerons[\"maxp1\"])\n",
        "\n",
        "    nuerons[\"fc2\"] = fc_fp(nuerons[\"flatten\"],weights[\"W2\"],weights[\"b2\"])\n",
        "    nuerons[\"fc2_relu\"] = relu_fp(nuerons[\"fc2\"])\n",
        "\n",
        "    nuerons[\"y\"] = fc_fp(nuerons[\"fc2_relu\"],weights[\"W3\"],weights[\"b3\"])\n",
        "\n",
        "    return nuerons[\"y\"]\n",
        "\n",
        "# define total backward propagation\n",
        "def backward(X,y_true):\n",
        "    loss,dy = cross_entropy(nuerons[\"y\"],y_true)\n",
        "    gradients[\"W3\"],gradients[\"b3\"],gradients[\"fc2_relu\"] = fc_bp(dy,weights[\"W3\"],nuerons[\"fc2_relu\"])\n",
        "    gradients[\"fc2\"] = relu_bp(gradients[\"fc2_relu\"], nuerons[\"fc2\"]) # tanh_bp(gradients[\"fc2_relu\"]) # \n",
        "\n",
        "    gradients[\"W2\"], gradients[\"b2\"], gradients[\"flatten\"] = fc_bp(gradients[\"fc2\"],weights[\"W2\"],nuerons[\"flatten\"])\n",
        "\n",
        "    gradients[\"maxp1\"] = flatten_bp(gradients[\"flatten\"],nuerons[\"maxp1\"])\n",
        "\n",
        "    gradients[\"conv1_relu\"] = maxpool_bp(gradients[\"maxp1\"].astype(np.float64),nuerons[\"conv1_relu\"].astype(np.float64))\n",
        "    gradients[\"conv1\"] = relu_bp(gradients[\"conv1_relu\"], nuerons[\"conv1\"]) # tanh_bp(gradients[\"conv1_relu\"]) # \n",
        "    gradients[\"K1\"], gradients[\"b1\"], _ = conv2d_bp(gradients[\"conv1\"],weights[\"K1\"],X)\n",
        "    return loss"
      ],
      "outputs": [],
      "execution_count": 47,
      "metadata": {
        "execution": {
          "iopub.execute_input": "2020-06-08T06:54:35.841Z",
          "iopub.status.busy": "2020-06-08T06:54:35.830Z",
          "iopub.status.idle": "2020-06-08T06:54:35.856Z",
          "shell.execute_reply": "2020-06-08T06:54:35.868Z"
        },
        "jupyter": {
          "outputs_hidden": false,
          "source_hidden": false
        },
        "nteract": {
          "transient": {
            "deleting": false
          }
        },
        "outputExpanded": false
      }
    },
    {
      "cell_type": "markdown",
      "source": [
        "### Run model"
      ],
      "metadata": {}
    },
    {
      "cell_type": "code",
      "source": [
        "import time\n",
        "\n",
        "epoch = 16\n",
        "batch_size = 16\n",
        "lr = 0.1\n",
        "it = 0\n",
        "\n",
        "# decrease the lr to lr*lr_drop_rate every epoch_step after the accuracy of validation data set isn't improve\n",
        "lr_drop_rate = 0.5\n",
        "epoch_step = 4\n",
        "\n",
        "train_step = train_num // batch_size\n",
        "valid_step = valid_num // batch_size\n",
        "\n",
        "# record the best accuracy of validation data set\n",
        "best_valid_acc = float(\"-inf\")\n",
        "# record the number of eoch after best_valid_acc isn't upgraded\n",
        "valid_epoch = 0\n",
        "\n",
        "# create a folder to save the best model\n",
        "save_path = time.strftime(\"%y%m%d%H%M%S\", time.localtime())\n",
        "os.makedirs(save_path)\n",
        "\n",
        "for i in range(epoch):\n",
        "    print(\"---------------------------------------------------\")\n",
        "    print(\"epoch:%03d\"%(i), end=' ')\n",
        "    start_time = time.time()\n",
        "    \n",
        "    for j in range(train_step):\n",
        "        train_pred = forward(train_images[j*batch_size:(j+1)*batch_size])\n",
        "        train_loss = backward(train_images[j*batch_size:(j+1)*batch_size], train_labels[j*batch_size:(j+1)*batch_size])\n",
        "        \n",
        "        sgd(weights, gradients, lr=lr)\n",
        "#         lr, it = sgd_md(weights, gradients, v_weights, lr, it)\n",
        "    \n",
        "    if train_step!=0:\n",
        "        j += 1\n",
        "    if train_num-j*batch_size != 0:\n",
        "        train_pred = forward(train_images[j*batch_size:])\n",
        "        train_loss = backward(train_images[j*batch_size:], train_labels[j*batch_size:])\n",
        "        \n",
        "        sgd(weights, gradients, lr=lr)\n",
        "#         lr, it = sgd_md(weights, gradients, v_weights, lr, it)\n",
        "    \n",
        "    epoch_time = time.time() - start_time\n",
        "    print(\"time: %.2f s\"%(epoch_time))\n",
        "    \n",
        "    # validate on validation images\n",
        "    valid_pred = np.zeros((valid_num,10))\n",
        "    for k in range(valid_step):\n",
        "        valid_pred[k*batch_size:(k+1)*batch_size] = forward(valid_images[k*batch_size:(k+1)*batch_size])\n",
        "    if valid_step!=0:\n",
        "        k += 1\n",
        "    if valid_num-k*batch_size != 0:\n",
        "        valid_pred[k*batch_size:] = forward(valid_images[k*batch_size:])\n",
        "    valid_loss,_ = cross_entropy(valid_pred, valid_labels)\n",
        "    valid_acc = accuracy(valid_pred, valid_labels)\n",
        "    valid_ca_prec = categorical_precision(valid_pred, valid_labels)\n",
        "    if valid_acc>best_valid_acc:\n",
        "        print(\"validation accuracy is improved from %.6f to %.6f\"%(best_valid_acc, valid_acc))\n",
        "        save_model(save_path)\n",
        "        best_valid_acc = valid_acc\n",
        "        valid_epoch = 0\n",
        "    else:\n",
        "        valid_epoch += 1\n",
        "    \n",
        "    print(\"validation loss:\", valid_loss)\n",
        "    print(\"validation accuracy:\", valid_acc)\n",
        "    print(\"validation categorical precision:\\n\", valid_ca_prec)\n",
        "    \n",
        "    #upgrade the learning rate\n",
        "    if valid_epoch == epoch_step:\n",
        "        print(\"learing rate is decreased from %.6f to %.6f\"%(lr, lr*lr_drop_rate))\n",
        "        lr = lr*lr_drop_rate"
      ],
      "outputs": [
        {
          "output_type": "stream",
          "name": "stdout",
          "text": [
            "---------------------------------------------------\n",
            "epoch:000 time: 11084.14 s\n",
            "validation accuracy is improved from -inf to 0.976167\n",
            "saving model to 200612094306\n",
            "\n",
            "validation loss: 0.07572066274550389\n",
            "validation accuracy: 0.9761666666666666\n",
            "validation categorical precision:\n",
            " [0.9790997  0.98953664 0.9831366  0.98568875 0.9906015  0.9716814\n",
            " 0.9775281  0.98333335 0.96843857 0.9354331 ]\n",
            "---------------------------------------------------\n",
            "epoch:001 time: 11086.90 s\n",
            "validation accuracy is improved from 0.976167 to 0.980500\n",
            "saving model to 200612094306\n",
            "\n",
            "validation loss: 0.07006784901995788\n",
            "validation accuracy: 0.9805\n",
            "validation categorical precision:\n",
            " [0.9838969  0.9910045  0.9881757  0.9910554  0.98892987 0.97849464\n",
            " 0.97603834 0.9772358  0.9701987  0.96103895]\n",
            "---------------------------------------------------\n",
            "epoch:002 time: 10929.04 s\n",
            "validation accuracy is improved from 0.980500 to 0.983000\n",
            "saving model to 200612094306\n",
            "\n",
            "validation loss: 0.06253402502721109\n",
            "validation accuracy: 0.983\n",
            "validation categorical precision:\n",
            " [0.9823151  0.9954819  0.9866221  0.99463326 0.98548096 0.9717314\n",
            " 0.983871   0.97879285 0.97203946 0.9782972 ]\n",
            "---------------------------------------------------\n",
            "epoch:003 time: 10662.72 s\n",
            "validation loss: 0.06116195873759428\n",
            "validation accuracy: 0.9823333333333333\n",
            "validation categorical precision:\n",
            " [0.9823151  0.994003   0.98160535 0.99469024 0.98720294 0.9767857\n",
            " 0.97596157 0.97868854 0.96885246 0.9832496 ]\n",
            "---------------------------------------------------\n",
            "epoch:004 time: 10958.71 s\n",
            "validation loss: 0.06961265100352879\n",
            "validation accuracy: 0.9816666666666667\n",
            "validation categorical precision:\n",
            " [0.98394865 0.994012   0.9784053  0.99462366 0.98178506 0.9752212\n",
            " 0.9775641  0.9785832  0.970346   0.98157454]\n",
            "---------------------------------------------------\n",
            "epoch:005 time: 10904.20 s\n",
            "validation loss: 0.06867860515261945\n",
            "validation accuracy: 0.9815\n",
            "validation categorical precision:\n",
            " [0.9918831  0.9910314  0.9948542  0.9911817  0.985348   0.96347827\n",
            " 0.97603834 0.9570747  0.9816667  0.9830221 ]\n",
            "---------------------------------------------------\n",
            "epoch:006 time: 10784.65 s\n",
            "validation accuracy is improved from 0.983000 to 0.984667\n",
            "saving model to 200612094306\n",
            "\n",
            "validation loss: 0.0683605166913768\n",
            "validation accuracy: 0.9846666666666667\n",
            "validation categorical precision:\n",
            " [0.9870968  0.9925262  0.9948718  0.99288255 0.98194945 0.9840708\n",
            " 0.987013   0.9756888  0.9784768  0.97203946]\n",
            "---------------------------------------------------\n",
            "epoch:007 time: 10780.80 s\n",
            "validation loss: 0.07859670397176104\n",
            "validation accuracy: 0.9821666666666666\n",
            "validation categorical precision:\n",
            " [0.9918567  0.996997   0.9965458  0.9842382  0.9767857  0.96187174\n",
            " 0.9823151  0.96763754 0.98811543 0.9735099 ]\n",
            "---------------------------------------------------\n",
            "epoch:008 "
          ]
        },
        {
          "output_type": "error",
          "ename": "KeyboardInterrupt",
          "evalue": "",
          "traceback": [
            "\u001b[0;31m---------------------------------------------------------------------------\u001b[0m",
            "\u001b[0;31mKeyboardInterrupt\u001b[0m                         Traceback (most recent call last)",
            "\u001b[0;32m<ipython-input-50-b862c62054b9>\u001b[0m in \u001b[0;36m<module>\u001b[0;34m\u001b[0m\n\u001b[1;32m     28\u001b[0m \u001b[0;34m\u001b[0m\u001b[0m\n\u001b[1;32m     29\u001b[0m     \u001b[0;32mfor\u001b[0m \u001b[0mj\u001b[0m \u001b[0;32min\u001b[0m \u001b[0mrange\u001b[0m\u001b[0;34m(\u001b[0m\u001b[0mtrain_step\u001b[0m\u001b[0;34m)\u001b[0m\u001b[0;34m:\u001b[0m\u001b[0;34m\u001b[0m\u001b[0m\n\u001b[0;32m---> 30\u001b[0;31m         \u001b[0mtrain_pred\u001b[0m \u001b[0;34m=\u001b[0m \u001b[0mforward\u001b[0m\u001b[0;34m(\u001b[0m\u001b[0mtrain_images\u001b[0m\u001b[0;34m[\u001b[0m\u001b[0mj\u001b[0m\u001b[0;34m*\u001b[0m\u001b[0mbatch_size\u001b[0m\u001b[0;34m:\u001b[0m\u001b[0;34m(\u001b[0m\u001b[0mj\u001b[0m\u001b[0;34m+\u001b[0m\u001b[0;36m1\u001b[0m\u001b[0;34m)\u001b[0m\u001b[0;34m*\u001b[0m\u001b[0mbatch_size\u001b[0m\u001b[0;34m]\u001b[0m\u001b[0;34m)\u001b[0m\u001b[0;34m\u001b[0m\u001b[0m\n\u001b[0m\u001b[1;32m     31\u001b[0m         \u001b[0mtrain_loss\u001b[0m \u001b[0;34m=\u001b[0m \u001b[0mbackward\u001b[0m\u001b[0;34m(\u001b[0m\u001b[0mtrain_images\u001b[0m\u001b[0;34m[\u001b[0m\u001b[0mj\u001b[0m\u001b[0;34m*\u001b[0m\u001b[0mbatch_size\u001b[0m\u001b[0;34m:\u001b[0m\u001b[0;34m(\u001b[0m\u001b[0mj\u001b[0m\u001b[0;34m+\u001b[0m\u001b[0;36m1\u001b[0m\u001b[0;34m)\u001b[0m\u001b[0;34m*\u001b[0m\u001b[0mbatch_size\u001b[0m\u001b[0;34m]\u001b[0m\u001b[0;34m,\u001b[0m \u001b[0mtrain_labels\u001b[0m\u001b[0;34m[\u001b[0m\u001b[0mj\u001b[0m\u001b[0;34m*\u001b[0m\u001b[0mbatch_size\u001b[0m\u001b[0;34m:\u001b[0m\u001b[0;34m(\u001b[0m\u001b[0mj\u001b[0m\u001b[0;34m+\u001b[0m\u001b[0;36m1\u001b[0m\u001b[0;34m)\u001b[0m\u001b[0;34m*\u001b[0m\u001b[0mbatch_size\u001b[0m\u001b[0;34m]\u001b[0m\u001b[0;34m)\u001b[0m\u001b[0;34m\u001b[0m\u001b[0m\n\u001b[1;32m     32\u001b[0m \u001b[0;34m\u001b[0m\u001b[0m\n",
            "\u001b[0;32m<ipython-input-47-b60fa9b9770f>\u001b[0m in \u001b[0;36mforward\u001b[0;34m(X)\u001b[0m\n\u001b[1;32m     20\u001b[0m \u001b[0;31m# 定义前向传播\u001b[0m\u001b[0;34m\u001b[0m\u001b[0;34m\u001b[0m\u001b[0m\n\u001b[1;32m     21\u001b[0m \u001b[0;32mdef\u001b[0m \u001b[0mforward\u001b[0m\u001b[0;34m(\u001b[0m\u001b[0mX\u001b[0m\u001b[0;34m)\u001b[0m\u001b[0;34m:\u001b[0m\u001b[0;34m\u001b[0m\u001b[0m\n\u001b[0;32m---> 22\u001b[0;31m     \u001b[0mnuerons\u001b[0m\u001b[0;34m[\u001b[0m\u001b[0;34m\"conv1\"\u001b[0m\u001b[0;34m]\u001b[0m \u001b[0;34m=\u001b[0m \u001b[0mconv2d_fp\u001b[0m\u001b[0;34m(\u001b[0m\u001b[0mX\u001b[0m\u001b[0;34m.\u001b[0m\u001b[0mastype\u001b[0m\u001b[0;34m(\u001b[0m\u001b[0mnp\u001b[0m\u001b[0;34m.\u001b[0m\u001b[0mfloat64\u001b[0m\u001b[0;34m)\u001b[0m\u001b[0;34m,\u001b[0m\u001b[0mweights\u001b[0m\u001b[0;34m[\u001b[0m\u001b[0;34m\"K1\"\u001b[0m\u001b[0;34m]\u001b[0m\u001b[0;34m,\u001b[0m\u001b[0mweights\u001b[0m\u001b[0;34m[\u001b[0m\u001b[0;34m\"b1\"\u001b[0m\u001b[0;34m]\u001b[0m\u001b[0;34m)\u001b[0m\u001b[0;34m\u001b[0m\u001b[0m\n\u001b[0m\u001b[1;32m     23\u001b[0m     \u001b[0mnuerons\u001b[0m\u001b[0;34m[\u001b[0m\u001b[0;34m\"conv1_relu\"\u001b[0m\u001b[0;34m]\u001b[0m \u001b[0;34m=\u001b[0m \u001b[0mrelu_fp\u001b[0m\u001b[0;34m(\u001b[0m\u001b[0mnuerons\u001b[0m\u001b[0;34m[\u001b[0m\u001b[0;34m\"conv1\"\u001b[0m\u001b[0;34m]\u001b[0m\u001b[0;34m)\u001b[0m\u001b[0;34m\u001b[0m\u001b[0m\n\u001b[1;32m     24\u001b[0m     \u001b[0mnuerons\u001b[0m\u001b[0;34m[\u001b[0m\u001b[0;34m\"maxp1\"\u001b[0m\u001b[0;34m]\u001b[0m \u001b[0;34m=\u001b[0m \u001b[0mmaxpool_fp\u001b[0m\u001b[0;34m(\u001b[0m\u001b[0mnuerons\u001b[0m\u001b[0;34m[\u001b[0m\u001b[0;34m\"conv1_relu\"\u001b[0m\u001b[0;34m]\u001b[0m\u001b[0;34m.\u001b[0m\u001b[0mastype\u001b[0m\u001b[0;34m(\u001b[0m\u001b[0mnp\u001b[0m\u001b[0;34m.\u001b[0m\u001b[0mfloat64\u001b[0m\u001b[0;34m)\u001b[0m\u001b[0;34m,\u001b[0m\u001b[0mpool_size\u001b[0m\u001b[0;34m=\u001b[0m\u001b[0;34m(\u001b[0m\u001b[0;36m2\u001b[0m\u001b[0;34m,\u001b[0m\u001b[0;36m2\u001b[0m\u001b[0;34m)\u001b[0m\u001b[0;34m)\u001b[0m\u001b[0;34m\u001b[0m\u001b[0m\n",
            "\u001b[0;32m<ipython-input-28-464a2ba74162>\u001b[0m in \u001b[0;36mconv2d_fp\u001b[0;34m(z, K, b, padding)\u001b[0m\n\u001b[1;32m     27\u001b[0m                     \u001b[0mz_part\u001b[0m \u001b[0;34m=\u001b[0m \u001b[0mz_p\u001b[0m\u001b[0;34m[\u001b[0m\u001b[0mnum\u001b[0m\u001b[0;34m,\u001b[0m \u001b[0;34m:\u001b[0m\u001b[0;34m,\u001b[0m \u001b[0mh\u001b[0m\u001b[0;34m:\u001b[0m\u001b[0mh\u001b[0m\u001b[0;34m+\u001b[0m\u001b[0mk1\u001b[0m\u001b[0;34m,\u001b[0m \u001b[0mw\u001b[0m\u001b[0;34m:\u001b[0m\u001b[0mw\u001b[0m\u001b[0;34m+\u001b[0m\u001b[0mk2\u001b[0m\u001b[0;34m]\u001b[0m\u001b[0;34m\u001b[0m\u001b[0m\n\u001b[1;32m     28\u001b[0m                     \u001b[0mK_part\u001b[0m \u001b[0;34m=\u001b[0m \u001b[0mK\u001b[0m\u001b[0;34m[\u001b[0m\u001b[0;34m:\u001b[0m\u001b[0;34m,\u001b[0m\u001b[0mc\u001b[0m\u001b[0;34m]\u001b[0m\u001b[0;34m\u001b[0m\u001b[0m\n\u001b[0;32m---> 29\u001b[0;31m                     \u001b[0mz_conv\u001b[0m\u001b[0;34m[\u001b[0m\u001b[0mnum\u001b[0m\u001b[0;34m,\u001b[0m \u001b[0mc\u001b[0m\u001b[0;34m,\u001b[0m \u001b[0mh\u001b[0m\u001b[0;34m,\u001b[0m \u001b[0mw\u001b[0m\u001b[0;34m]\u001b[0m \u001b[0;34m=\u001b[0m \u001b[0mnp\u001b[0m\u001b[0;34m.\u001b[0m\u001b[0msum\u001b[0m\u001b[0;34m(\u001b[0m\u001b[0mz_part\u001b[0m \u001b[0;34m*\u001b[0m \u001b[0mK_part\u001b[0m\u001b[0;34m)\u001b[0m \u001b[0;34m+\u001b[0m \u001b[0mb\u001b[0m\u001b[0;34m[\u001b[0m\u001b[0mc\u001b[0m\u001b[0;34m]\u001b[0m\u001b[0;34m\u001b[0m\u001b[0m\n\u001b[0m\u001b[1;32m     30\u001b[0m     \u001b[0;32mreturn\u001b[0m \u001b[0mz_conv\u001b[0m\u001b[0;34m\u001b[0m\u001b[0m\n",
            "\u001b[0;31mKeyboardInterrupt\u001b[0m: "
          ]
        }
      ],
      "execution_count": 50,
      "metadata": {
        "execution": {
          "iopub.execute_input": "2020-06-08T06:54:37.468Z",
          "iopub.status.busy": "2020-06-08T06:54:37.454Z",
          "iopub.status.idle": "2020-06-08T04:44:05.641Z",
          "shell.execute_reply": "2020-06-08T04:44:05.672Z"
        }
      }
    },
    {
      "cell_type": "markdown",
      "source": [
        "### Test model"
      ],
      "metadata": {}
    },
    {
      "cell_type": "code",
      "source": [
        "# test directly\n",
        "test_pred = forward(test_images)\n",
        "test_pred = softmax(test_pred)\n",
        "test_loss,_ = cross_entropy(test_pred, test_labels)\n",
        "test_acc = accuracy(test_pred, test_labels)\n",
        "test_ca_prec = categorical_precision(test_pred, test_labels)\n",
        "print(\"test loss:\", test_loss)\n",
        "print(\"test accuracy:\", test_acc)\n",
        "print(\"test categorical precision:\\n\", test_ca_prec)"
      ],
      "outputs": [
        {
          "output_type": "stream",
          "name": "stdout",
          "text": [
            "test loss: 1.48383128026876\n",
            "test accuracy: 0.9785\n",
            "test categorical precision:\n",
            " [0.9749499  0.9877085  0.9815713  0.996945   0.98571426 0.9299896\n",
            " 0.98638743 0.97033495 0.9912854  0.9788945 ]\n"
          ]
        }
      ],
      "execution_count": 51,
      "metadata": {
        "execution": {
          "iopub.execute_input": "2020-06-07T14:32:50.710Z",
          "iopub.status.busy": "2020-06-07T14:32:50.690Z",
          "iopub.status.idle": "2020-06-07T14:33:42.277Z",
          "shell.execute_reply": "2020-06-07T14:33:42.317Z"
        }
      }
    },
    {
      "cell_type": "code",
      "source": [
        "# test from the model saved\n",
        "load_path = \"200612094306\"\n",
        "weights, nuerons, gradients, details = load_model(load_path)\n",
        "\n",
        "test_pred = forward(test_images)\n",
        "test_pred = softmax(test_pred)\n",
        "test_loss,_ = cross_entropy(test_pred, test_labels)\n",
        "test_acc = accuracy(test_pred, test_labels)\n",
        "test_ca_prec = categorical_precision(test_pred, test_labels)\n",
        "print(\"test loss:\", test_loss)\n",
        "print(\"test accuracy:\", test_acc)\n",
        "print(\"test categorical precision:\\n\", test_ca_prec)"
      ],
      "outputs": [
        {
          "output_type": "stream",
          "name": "stdout",
          "text": [
            "test loss: 1.4783845715588637\n",
            "test accuracy: 0.9841\n",
            "test categorical precision:\n",
            " [0.9788945  0.9885664  0.9921027  0.99002993 0.9907692  0.9832962\n",
            " 0.9782609  0.9741131  0.98053277 0.9839034 ]\n"
          ]
        }
      ],
      "execution_count": 52,
      "metadata": {
        "execution": {
          "iopub.execute_input": "2020-06-07T14:35:59.867Z",
          "iopub.status.busy": "2020-06-07T14:35:59.851Z",
          "iopub.status.idle": "2020-06-07T14:36:52.596Z",
          "shell.execute_reply": "2020-06-07T14:36:52.632Z"
        }
      }
    },
    {
      "cell_type": "markdown",
      "source": [
        "</br>\n",
        "</br>\n",
        "\n",
        "### Application of the model"
      ],
      "metadata": {}
    },
    {
      "cell_type": "code",
      "source": [
        "'''\n",
        "All functions defined in this cell have already been defined above to train the model.\n",
        "Redefinition here simply serves for the application of the saved model.\n",
        "'''\n",
        "\n",
        "import numpy as np\n",
        "import os\n",
        "import struct\n",
        "import matplotlib.pyplot as plt\n",
        "\n",
        "# the file of test images\n",
        "test_images_idx3_ubyte_file = 't10k-images.idx3-ubyte'\n",
        "# load data\n",
        "def decode_idx3_ubyte(idx3_ubyte_file):\n",
        "    bin_data = open(idx3_ubyte_file, 'rb').read()\n",
        "    # decode file header information\n",
        "    offset = 0\n",
        "    fmt_header = '>iiii'\n",
        "    magic_number, num_images, num_rows, num_cols = struct.unpack_from(fmt_header, bin_data, offset)\n",
        "    print ('magic number:%d, images number: %d, image size: %d*%d' % (magic_number, num_images, num_rows, num_cols))\n",
        "    # decode data set\n",
        "    image_size = num_rows * num_cols\n",
        "    offset += struct.calcsize(fmt_header)\n",
        "    fmt_image = '>' + str(image_size) + 'B'\n",
        "    images = np.empty((num_images, num_rows, num_cols))\n",
        "    for i in range(num_images):\n",
        "        if (i + 1) % 10000 == 0:\n",
        "            print ('have decoded %d' % (i + 1) + 'images')\n",
        "        images[i] = np.array(struct.unpack_from(fmt_image, bin_data, offset)).reshape((num_rows, num_cols))\n",
        "        offset += struct.calcsize(fmt_image)\n",
        "    return images\n",
        "\n",
        "def load_test_images(idx_ubyte_file=test_images_idx3_ubyte_file):\n",
        "    return decode_idx3_ubyte(idx_ubyte_file)\n",
        "\n",
        "test_images = load_test_images()\n",
        "test_images = test_images/255\n",
        "test_images = test_images.reshape(-1,1,28,28)\n",
        "\n",
        "# load model\n",
        "def load_model(path):\n",
        "    weights = np.load(os.path.join(path,'weights.npy'), allow_pickle=True).item()\n",
        "    nuerons = np.load(os.path.join(path,'nuerons.npy'), allow_pickle=True).item()\n",
        "    gradients = np.load(os.path.join(path,'gradients.npy'), allow_pickle=True).item()\n",
        "    details = np.load(os.path.join(path,'details.npy'), allow_pickle=True).item()\n",
        "    return weights, nuerons, gradients, [details[\"lr\"], details[\"epoch\"], details[\"valid_loss\"], details[\"valid_acc\"], details[\"valid_ca_prec\"]]  \n",
        "\n",
        "# define the function used in the model\n",
        "def fc_fp(z, W, b):\n",
        "    z_fc = np.dot(z, W) + b\n",
        "    return z_fc\n",
        "\n",
        "def conv2d_fp(z, K, b, padding=(0,0)):\n",
        "    p1 = padding[0]\n",
        "    p2 = padding[1]\n",
        "    z_p = np.lib.pad(z, ((0,0),(0,0),(p1,p1),(p2,p2)), mode='constant', constant_values=0)\n",
        "    n, c1, h1, w1 = z_p.shape\n",
        "    c1, c2, k1, k2 = K.shape\n",
        "    h2 = h1-k1+1\n",
        "    w2 = w1-k2+1\n",
        "    z_conv = np.zeros((n, c2, h2, w2))\n",
        "    for num in range(n):\n",
        "        for c in range(c2):\n",
        "            for h in range(h2):\n",
        "                for w in range(w2):\n",
        "                    z_part = z_p[num, :, h:h+k1, w:w+k2]\n",
        "                    K_part = K[:,c]\n",
        "                    z_conv[num, c, h, w] = np.sum(z_part * K_part) + b[c]\n",
        "    return z_conv\n",
        "\n",
        "def maxpool_fp(z, pool_size=(2,2), pool_stride=(2,2), padding=(0,0)):\n",
        "    n, c1, h1, w1 = z.shape\n",
        "    k1 = pool_size[0]\n",
        "    k2 = pool_size[1]\n",
        "    s1 = pool_stride[0]\n",
        "    s2 = pool_stride[1]\n",
        "    p1 = padding[0]\n",
        "    p2 = padding[1]\n",
        "    h2 = (h1 + p1*2 - k1)//s1 + 1\n",
        "    w2 = (w1 + p2*2 - k2)//s2 + 1\n",
        "    z_p = np.lib.pad(z, ((0,0), (0,0), (p1, p1), (p2, p2)), 'constant', constant_values=0)\n",
        "    z_po = np.zeros((n,c1,h2,w2))\n",
        "    for num in range(n):\n",
        "        for c in range(c1):\n",
        "            for h in range(h2):\n",
        "                for w in range(w2):\n",
        "                    z_part = z_p[num, c, h*s1:h*s1+k1, w*s2:w*s2+k2]\n",
        "                    z_po[num,c,h,w] = np.max(z_part)\n",
        "    return z_po\n",
        "\n",
        "def flatten_fp(z):\n",
        "    n = z.shape[0]\n",
        "    z_flt = np.reshape(z, (n,-1))\n",
        "    return z_flt\n",
        "\n",
        "def relu_fp(z):\n",
        "    return np.maximum(0, z)\n",
        "\n",
        "def softmax(y):\n",
        "    return (np.exp(y).T/np.sum(np.exp(y), axis=-1)).T\n",
        "\n",
        "# define total forward propagation\n",
        "def forward(X):\n",
        "    nuerons[\"conv1\"] = conv2d_fp(X.astype(np.float64),weights[\"K1\"],weights[\"b1\"])\n",
        "    nuerons[\"conv1_relu\"] = relu_fp(nuerons[\"conv1\"])\n",
        "    nuerons[\"maxp1\"] = maxpool_fp(nuerons[\"conv1_relu\"].astype(np.float64),pool_size=(2,2))\n",
        "    nuerons[\"flatten\"] = flatten_fp(nuerons[\"maxp1\"])\n",
        "    nuerons[\"fc2\"] = fc_fp(nuerons[\"flatten\"],weights[\"W2\"],weights[\"b2\"])\n",
        "    nuerons[\"fc2_relu\"] = relu_fp(nuerons[\"fc2\"])\n",
        "    nuerons[\"y\"] = fc_fp(nuerons[\"fc2_relu\"],weights[\"W3\"],weights[\"b3\"])\n",
        "    return nuerons[\"y\"]"
      ],
      "outputs": [
        {
          "output_type": "stream",
          "name": "stdout",
          "text": [
            "magic number:2051, images number: 10000, image size: 28*28\n",
            "have decoded 10000images\n"
          ]
        }
      ],
      "execution_count": 1,
      "metadata": {
        "execution": {
          "iopub.status.busy": "2020-06-13T10:17:08.680Z",
          "iopub.execute_input": "2020-06-13T10:17:08.688Z",
          "iopub.status.idle": "2020-06-13T10:17:09.458Z",
          "shell.execute_reply": "2020-06-13T10:17:09.481Z"
        }
      }
    },
    {
      "cell_type": "code",
      "source": [
        "load_path = \"200612094306\"\n",
        "weights, nuerons, gradients, details = load_model(load_path)\n",
        "num = np.random.randint(0, test_images.shape[0], 1)\n",
        "\n",
        "# application: test a picture\n",
        "test_img = test_images[num].astype(np.float64)\n",
        "test_img = test_img.reshape(-1,1,28,28)\n",
        "\n",
        "test_img_pred = softmax(forward(test_img))\n",
        "test_img_pred = np.argmax(test_img_pred, axis=1)\n",
        "\n",
        "plt.imshow(test_img[0][0], cmap='gray')\n",
        "print(\"\\nPrediction of this picture is:\", test_img_pred[0])"
      ],
      "outputs": [
        {
          "output_type": "stream",
          "name": "stdout",
          "text": [
            "\n",
            "Prediction of this picture is: 2\n"
          ]
        },
        {
          "output_type": "display_data",
          "data": {
            "text/plain": [
              "<Figure size 432x288 with 1 Axes>"
            ],
            "image/png": "[encoded data removed]"
          },
          "metadata": {
            "needs_background": "light"
          }
        }
      ],
      "execution_count": 2,
      "metadata": {
        "execution": {
          "iopub.status.busy": "2020-06-13T10:17:10.692Z",
          "iopub.execute_input": "2020-06-13T10:17:10.703Z",
          "iopub.status.idle": "2020-06-13T10:17:10.988Z",
          "shell.execute_reply": "2020-06-13T10:17:11.006Z"
        }
      }
    },
    {
      "cell_type": "code",
      "source": [],
      "outputs": [],
      "execution_count": null,
      "metadata": {}
    },
    {
      "cell_type": "code",
      "source": [],
      "outputs": [],
      "execution_count": null,
      "metadata": {}
    }
  ],
  "metadata": {
    "kernel_info": {
      "name": "python3"
    },
    "kernelspec": {
      "display_name": "Python 3",
      "language": "python",
      "name": "python3"
    },
    "language_info": {
      "name": "python",
      "version": "3.7.0",
      "mimetype": "text/x-python",
      "codemirror_mode": {
        "name": "ipython",
        "version": 3
      },
      "pygments_lexer": "ipython3",
      "nbconvert_exporter": "python",
      "file_extension": ".py"
    },
    "nteract": {
      "version": "0.23.1"
    }
  },
  "nbformat": 4,
  "nbformat_minor": 1
}